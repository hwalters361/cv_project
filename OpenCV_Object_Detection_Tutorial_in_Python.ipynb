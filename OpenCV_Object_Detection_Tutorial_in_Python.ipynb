{
  "nbformat": 4,
  "nbformat_minor": 0,
  "metadata": {
    "colab": {
      "provenance": []
    },
    "kernelspec": {
      "name": "python3",
      "display_name": "Python 3"
    },
    "language_info": {
      "name": "python"
    },
    "widgets": {
      "application/vnd.jupyter.widget-state+json": {
        "0a74ea035a7b44cc92c119029d0532d9": {
          "model_module": "@jupyter-widgets/controls",
          "model_name": "VBoxModel",
          "model_module_version": "1.5.0",
          "state": {
            "_dom_classes": [
              "widget-interact"
            ],
            "_model_module": "@jupyter-widgets/controls",
            "_model_module_version": "1.5.0",
            "_model_name": "VBoxModel",
            "_view_count": null,
            "_view_module": "@jupyter-widgets/controls",
            "_view_module_version": "1.5.0",
            "_view_name": "VBoxView",
            "box_style": "",
            "children": [
              "IPY_MODEL_9d97736153da4289a167f9e907cd4d9a",
              "IPY_MODEL_e729c28737664a91a1df44110be773a4",
              "IPY_MODEL_bb4890bd02524e048b0496d1534265ae",
              "IPY_MODEL_c3f1f9982bdc44c185a1b1e7ca84e70a"
            ],
            "layout": "IPY_MODEL_4132159be42248faa259e322eb84f54f"
          }
        },
        "9d97736153da4289a167f9e907cd4d9a": {
          "model_module": "@jupyter-widgets/controls",
          "model_name": "IntSliderModel",
          "model_module_version": "1.5.0",
          "state": {
            "_dom_classes": [],
            "_model_module": "@jupyter-widgets/controls",
            "_model_module_version": "1.5.0",
            "_model_name": "IntSliderModel",
            "_view_count": null,
            "_view_module": "@jupyter-widgets/controls",
            "_view_module_version": "1.5.0",
            "_view_name": "IntSliderView",
            "continuous_update": true,
            "description": "Red",
            "description_tooltip": null,
            "disabled": false,
            "layout": "IPY_MODEL_99b9c210c33d47c494405f12fba1a081",
            "max": 255,
            "min": 0,
            "orientation": "horizontal",
            "readout": true,
            "readout_format": "d",
            "step": 1,
            "style": "IPY_MODEL_5d4a8e5a1ee84d71b35b610e80363fbc",
            "value": 128
          }
        },
        "e729c28737664a91a1df44110be773a4": {
          "model_module": "@jupyter-widgets/controls",
          "model_name": "IntSliderModel",
          "model_module_version": "1.5.0",
          "state": {
            "_dom_classes": [],
            "_model_module": "@jupyter-widgets/controls",
            "_model_module_version": "1.5.0",
            "_model_name": "IntSliderModel",
            "_view_count": null,
            "_view_module": "@jupyter-widgets/controls",
            "_view_module_version": "1.5.0",
            "_view_name": "IntSliderView",
            "continuous_update": true,
            "description": "Green",
            "description_tooltip": null,
            "disabled": false,
            "layout": "IPY_MODEL_1f5bc5fd0ec64e84bc2745be3d30d34a",
            "max": 255,
            "min": 0,
            "orientation": "horizontal",
            "readout": true,
            "readout_format": "d",
            "step": 1,
            "style": "IPY_MODEL_b7c90e1112ce46fe98a29cd8701cdd46",
            "value": 128
          }
        },
        "bb4890bd02524e048b0496d1534265ae": {
          "model_module": "@jupyter-widgets/controls",
          "model_name": "IntSliderModel",
          "model_module_version": "1.5.0",
          "state": {
            "_dom_classes": [],
            "_model_module": "@jupyter-widgets/controls",
            "_model_module_version": "1.5.0",
            "_model_name": "IntSliderModel",
            "_view_count": null,
            "_view_module": "@jupyter-widgets/controls",
            "_view_module_version": "1.5.0",
            "_view_name": "IntSliderView",
            "continuous_update": true,
            "description": "Blue",
            "description_tooltip": null,
            "disabled": false,
            "layout": "IPY_MODEL_01f2cbfe9f36498282885257b25b7150",
            "max": 255,
            "min": 0,
            "orientation": "horizontal",
            "readout": true,
            "readout_format": "d",
            "step": 1,
            "style": "IPY_MODEL_e8fd407c63494d8e9156934d03839ed7",
            "value": 128
          }
        },
        "c3f1f9982bdc44c185a1b1e7ca84e70a": {
          "model_module": "@jupyter-widgets/output",
          "model_name": "OutputModel",
          "model_module_version": "1.0.0",
          "state": {
            "_dom_classes": [],
            "_model_module": "@jupyter-widgets/output",
            "_model_module_version": "1.0.0",
            "_model_name": "OutputModel",
            "_view_count": null,
            "_view_module": "@jupyter-widgets/output",
            "_view_module_version": "1.0.0",
            "_view_name": "OutputView",
            "layout": "IPY_MODEL_6c8ab0d6d70842caa43fd6e12f211162",
            "msg_id": "",
            "outputs": [
              {
                "output_type": "display_data",
                "data": {
                  "text/plain": "<Figure size 200x200 with 1 Axes>",
                  "image/png": "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\n"
                },
                "metadata": {}
              }
            ]
          }
        },
        "4132159be42248faa259e322eb84f54f": {
          "model_module": "@jupyter-widgets/base",
          "model_name": "LayoutModel",
          "model_module_version": "1.2.0",
          "state": {
            "_model_module": "@jupyter-widgets/base",
            "_model_module_version": "1.2.0",
            "_model_name": "LayoutModel",
            "_view_count": null,
            "_view_module": "@jupyter-widgets/base",
            "_view_module_version": "1.2.0",
            "_view_name": "LayoutView",
            "align_content": null,
            "align_items": null,
            "align_self": null,
            "border": null,
            "bottom": null,
            "display": null,
            "flex": null,
            "flex_flow": null,
            "grid_area": null,
            "grid_auto_columns": null,
            "grid_auto_flow": null,
            "grid_auto_rows": null,
            "grid_column": null,
            "grid_gap": null,
            "grid_row": null,
            "grid_template_areas": null,
            "grid_template_columns": null,
            "grid_template_rows": null,
            "height": null,
            "justify_content": null,
            "justify_items": null,
            "left": null,
            "margin": null,
            "max_height": null,
            "max_width": null,
            "min_height": null,
            "min_width": null,
            "object_fit": null,
            "object_position": null,
            "order": null,
            "overflow": null,
            "overflow_x": null,
            "overflow_y": null,
            "padding": null,
            "right": null,
            "top": null,
            "visibility": null,
            "width": null
          }
        },
        "99b9c210c33d47c494405f12fba1a081": {
          "model_module": "@jupyter-widgets/base",
          "model_name": "LayoutModel",
          "model_module_version": "1.2.0",
          "state": {
            "_model_module": "@jupyter-widgets/base",
            "_model_module_version": "1.2.0",
            "_model_name": "LayoutModel",
            "_view_count": null,
            "_view_module": "@jupyter-widgets/base",
            "_view_module_version": "1.2.0",
            "_view_name": "LayoutView",
            "align_content": null,
            "align_items": null,
            "align_self": null,
            "border": null,
            "bottom": null,
            "display": null,
            "flex": null,
            "flex_flow": null,
            "grid_area": null,
            "grid_auto_columns": null,
            "grid_auto_flow": null,
            "grid_auto_rows": null,
            "grid_column": null,
            "grid_gap": null,
            "grid_row": null,
            "grid_template_areas": null,
            "grid_template_columns": null,
            "grid_template_rows": null,
            "height": null,
            "justify_content": null,
            "justify_items": null,
            "left": null,
            "margin": null,
            "max_height": null,
            "max_width": null,
            "min_height": null,
            "min_width": null,
            "object_fit": null,
            "object_position": null,
            "order": null,
            "overflow": null,
            "overflow_x": null,
            "overflow_y": null,
            "padding": null,
            "right": null,
            "top": null,
            "visibility": null,
            "width": null
          }
        },
        "5d4a8e5a1ee84d71b35b610e80363fbc": {
          "model_module": "@jupyter-widgets/controls",
          "model_name": "SliderStyleModel",
          "model_module_version": "1.5.0",
          "state": {
            "_model_module": "@jupyter-widgets/controls",
            "_model_module_version": "1.5.0",
            "_model_name": "SliderStyleModel",
            "_view_count": null,
            "_view_module": "@jupyter-widgets/base",
            "_view_module_version": "1.2.0",
            "_view_name": "StyleView",
            "description_width": "",
            "handle_color": null
          }
        },
        "1f5bc5fd0ec64e84bc2745be3d30d34a": {
          "model_module": "@jupyter-widgets/base",
          "model_name": "LayoutModel",
          "model_module_version": "1.2.0",
          "state": {
            "_model_module": "@jupyter-widgets/base",
            "_model_module_version": "1.2.0",
            "_model_name": "LayoutModel",
            "_view_count": null,
            "_view_module": "@jupyter-widgets/base",
            "_view_module_version": "1.2.0",
            "_view_name": "LayoutView",
            "align_content": null,
            "align_items": null,
            "align_self": null,
            "border": null,
            "bottom": null,
            "display": null,
            "flex": null,
            "flex_flow": null,
            "grid_area": null,
            "grid_auto_columns": null,
            "grid_auto_flow": null,
            "grid_auto_rows": null,
            "grid_column": null,
            "grid_gap": null,
            "grid_row": null,
            "grid_template_areas": null,
            "grid_template_columns": null,
            "grid_template_rows": null,
            "height": null,
            "justify_content": null,
            "justify_items": null,
            "left": null,
            "margin": null,
            "max_height": null,
            "max_width": null,
            "min_height": null,
            "min_width": null,
            "object_fit": null,
            "object_position": null,
            "order": null,
            "overflow": null,
            "overflow_x": null,
            "overflow_y": null,
            "padding": null,
            "right": null,
            "top": null,
            "visibility": null,
            "width": null
          }
        },
        "b7c90e1112ce46fe98a29cd8701cdd46": {
          "model_module": "@jupyter-widgets/controls",
          "model_name": "SliderStyleModel",
          "model_module_version": "1.5.0",
          "state": {
            "_model_module": "@jupyter-widgets/controls",
            "_model_module_version": "1.5.0",
            "_model_name": "SliderStyleModel",
            "_view_count": null,
            "_view_module": "@jupyter-widgets/base",
            "_view_module_version": "1.2.0",
            "_view_name": "StyleView",
            "description_width": "",
            "handle_color": null
          }
        },
        "01f2cbfe9f36498282885257b25b7150": {
          "model_module": "@jupyter-widgets/base",
          "model_name": "LayoutModel",
          "model_module_version": "1.2.0",
          "state": {
            "_model_module": "@jupyter-widgets/base",
            "_model_module_version": "1.2.0",
            "_model_name": "LayoutModel",
            "_view_count": null,
            "_view_module": "@jupyter-widgets/base",
            "_view_module_version": "1.2.0",
            "_view_name": "LayoutView",
            "align_content": null,
            "align_items": null,
            "align_self": null,
            "border": null,
            "bottom": null,
            "display": null,
            "flex": null,
            "flex_flow": null,
            "grid_area": null,
            "grid_auto_columns": null,
            "grid_auto_flow": null,
            "grid_auto_rows": null,
            "grid_column": null,
            "grid_gap": null,
            "grid_row": null,
            "grid_template_areas": null,
            "grid_template_columns": null,
            "grid_template_rows": null,
            "height": null,
            "justify_content": null,
            "justify_items": null,
            "left": null,
            "margin": null,
            "max_height": null,
            "max_width": null,
            "min_height": null,
            "min_width": null,
            "object_fit": null,
            "object_position": null,
            "order": null,
            "overflow": null,
            "overflow_x": null,
            "overflow_y": null,
            "padding": null,
            "right": null,
            "top": null,
            "visibility": null,
            "width": null
          }
        },
        "e8fd407c63494d8e9156934d03839ed7": {
          "model_module": "@jupyter-widgets/controls",
          "model_name": "SliderStyleModel",
          "model_module_version": "1.5.0",
          "state": {
            "_model_module": "@jupyter-widgets/controls",
            "_model_module_version": "1.5.0",
            "_model_name": "SliderStyleModel",
            "_view_count": null,
            "_view_module": "@jupyter-widgets/base",
            "_view_module_version": "1.2.0",
            "_view_name": "StyleView",
            "description_width": "",
            "handle_color": null
          }
        },
        "6c8ab0d6d70842caa43fd6e12f211162": {
          "model_module": "@jupyter-widgets/base",
          "model_name": "LayoutModel",
          "model_module_version": "1.2.0",
          "state": {
            "_model_module": "@jupyter-widgets/base",
            "_model_module_version": "1.2.0",
            "_model_name": "LayoutModel",
            "_view_count": null,
            "_view_module": "@jupyter-widgets/base",
            "_view_module_version": "1.2.0",
            "_view_name": "LayoutView",
            "align_content": null,
            "align_items": null,
            "align_self": null,
            "border": null,
            "bottom": null,
            "display": null,
            "flex": null,
            "flex_flow": null,
            "grid_area": null,
            "grid_auto_columns": null,
            "grid_auto_flow": null,
            "grid_auto_rows": null,
            "grid_column": null,
            "grid_gap": null,
            "grid_row": null,
            "grid_template_areas": null,
            "grid_template_columns": null,
            "grid_template_rows": null,
            "height": null,
            "justify_content": null,
            "justify_items": null,
            "left": null,
            "margin": null,
            "max_height": null,
            "max_width": null,
            "min_height": null,
            "min_width": null,
            "object_fit": null,
            "object_position": null,
            "order": null,
            "overflow": null,
            "overflow_x": null,
            "overflow_y": null,
            "padding": null,
            "right": null,
            "top": null,
            "visibility": null,
            "width": null
          }
        },
        "cb4110110ca941f6a0ce558c4b83e5ff": {
          "model_module": "@jupyter-widgets/controls",
          "model_name": "VBoxModel",
          "model_module_version": "1.5.0",
          "state": {
            "_dom_classes": [
              "widget-interact"
            ],
            "_model_module": "@jupyter-widgets/controls",
            "_model_module_version": "1.5.0",
            "_model_name": "VBoxModel",
            "_view_count": null,
            "_view_module": "@jupyter-widgets/controls",
            "_view_module_version": "1.5.0",
            "_view_name": "VBoxView",
            "box_style": "",
            "children": [
              "IPY_MODEL_89901b24c7274679b078f4dd8671362b",
              "IPY_MODEL_6f045ec8be6f49f29b3510f9f1ac2bb5",
              "IPY_MODEL_17760c3abfff4469a7fa8df59c332bc3",
              "IPY_MODEL_37ed52c1c93b4f8fb2c1c739277eab94",
              "IPY_MODEL_ecfd896a17184ebd8ba256d1defd2068"
            ],
            "layout": "IPY_MODEL_5db9a60065dd4efd9c427bc3198cf774"
          }
        },
        "89901b24c7274679b078f4dd8671362b": {
          "model_module": "@jupyter-widgets/controls",
          "model_name": "IntSliderModel",
          "model_module_version": "1.5.0",
          "state": {
            "_dom_classes": [],
            "_model_module": "@jupyter-widgets/controls",
            "_model_module_version": "1.5.0",
            "_model_name": "IntSliderModel",
            "_view_count": null,
            "_view_module": "@jupyter-widgets/controls",
            "_view_module_version": "1.5.0",
            "_view_name": "IntSliderView",
            "continuous_update": true,
            "description": "Red",
            "description_tooltip": null,
            "disabled": false,
            "layout": "IPY_MODEL_5c15208bf77a4edca2b73cf611d0eeb3",
            "max": 255,
            "min": 0,
            "orientation": "horizontal",
            "readout": true,
            "readout_format": "d",
            "step": 1,
            "style": "IPY_MODEL_463e37915ff44e74a12ce6efb082f067",
            "value": 0
          }
        },
        "6f045ec8be6f49f29b3510f9f1ac2bb5": {
          "model_module": "@jupyter-widgets/controls",
          "model_name": "IntSliderModel",
          "model_module_version": "1.5.0",
          "state": {
            "_dom_classes": [],
            "_model_module": "@jupyter-widgets/controls",
            "_model_module_version": "1.5.0",
            "_model_name": "IntSliderModel",
            "_view_count": null,
            "_view_module": "@jupyter-widgets/controls",
            "_view_module_version": "1.5.0",
            "_view_name": "IntSliderView",
            "continuous_update": true,
            "description": "Green",
            "description_tooltip": null,
            "disabled": false,
            "layout": "IPY_MODEL_6adc95ea23af4c289f51b9ef6927d42a",
            "max": 255,
            "min": 0,
            "orientation": "horizontal",
            "readout": true,
            "readout_format": "d",
            "step": 1,
            "style": "IPY_MODEL_7388a8ba6950415ba261f7eb4c74f171",
            "value": 0
          }
        },
        "17760c3abfff4469a7fa8df59c332bc3": {
          "model_module": "@jupyter-widgets/controls",
          "model_name": "IntSliderModel",
          "model_module_version": "1.5.0",
          "state": {
            "_dom_classes": [],
            "_model_module": "@jupyter-widgets/controls",
            "_model_module_version": "1.5.0",
            "_model_name": "IntSliderModel",
            "_view_count": null,
            "_view_module": "@jupyter-widgets/controls",
            "_view_module_version": "1.5.0",
            "_view_name": "IntSliderView",
            "continuous_update": true,
            "description": "Blue",
            "description_tooltip": null,
            "disabled": false,
            "layout": "IPY_MODEL_bd8e1bf0c5db4d979d1020519ae82b54",
            "max": 255,
            "min": 0,
            "orientation": "horizontal",
            "readout": true,
            "readout_format": "d",
            "step": 1,
            "style": "IPY_MODEL_4ac463057f4f4f04b4c9ef89edac1a58",
            "value": 0
          }
        },
        "37ed52c1c93b4f8fb2c1c739277eab94": {
          "model_module": "@jupyter-widgets/controls",
          "model_name": "IntSliderModel",
          "model_module_version": "1.5.0",
          "state": {
            "_dom_classes": [],
            "_model_module": "@jupyter-widgets/controls",
            "_model_module_version": "1.5.0",
            "_model_name": "IntSliderModel",
            "_view_count": null,
            "_view_module": "@jupyter-widgets/controls",
            "_view_module_version": "1.5.0",
            "_view_name": "IntSliderView",
            "continuous_update": true,
            "description": "Threshold",
            "description_tooltip": null,
            "disabled": false,
            "layout": "IPY_MODEL_5389a542218e4bf9a4bc31085b92e10a",
            "max": 255,
            "min": 0,
            "orientation": "horizontal",
            "readout": true,
            "readout_format": "d",
            "step": 1,
            "style": "IPY_MODEL_d3247b20bffd4b83a0e93ca86e0e9cfa",
            "value": 110
          }
        },
        "ecfd896a17184ebd8ba256d1defd2068": {
          "model_module": "@jupyter-widgets/output",
          "model_name": "OutputModel",
          "model_module_version": "1.0.0",
          "state": {
            "_dom_classes": [],
            "_model_module": "@jupyter-widgets/output",
            "_model_module_version": "1.0.0",
            "_model_name": "OutputModel",
            "_view_count": null,
            "_view_module": "@jupyter-widgets/output",
            "_view_module_version": "1.0.0",
            "_view_name": "OutputView",
            "layout": "IPY_MODEL_75e4e31c53dd40afa46d9184e3e25394",
            "msg_id": "",
            "outputs": [
              {
                "output_type": "display_data",
                "data": {
                  "text/plain": "<Figure size 200x200 with 1 Axes>",
                  "image/png": "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\n"
                },
                "metadata": {}
              },
              {
                "output_type": "display_data",
                "data": {
                  "text/plain": "<Figure size 600x600 with 1 Axes>",
                  "image/png": "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\n"
                },
                "metadata": {}
              },
              {
                "output_type": "display_data",
                "data": {
                  "text/plain": "<Figure size 600x600 with 1 Axes>",
                  "image/png": "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\n"
                },
                "metadata": {}
              }
            ]
          }
        },
        "5db9a60065dd4efd9c427bc3198cf774": {
          "model_module": "@jupyter-widgets/base",
          "model_name": "LayoutModel",
          "model_module_version": "1.2.0",
          "state": {
            "_model_module": "@jupyter-widgets/base",
            "_model_module_version": "1.2.0",
            "_model_name": "LayoutModel",
            "_view_count": null,
            "_view_module": "@jupyter-widgets/base",
            "_view_module_version": "1.2.0",
            "_view_name": "LayoutView",
            "align_content": null,
            "align_items": null,
            "align_self": null,
            "border": null,
            "bottom": null,
            "display": null,
            "flex": null,
            "flex_flow": null,
            "grid_area": null,
            "grid_auto_columns": null,
            "grid_auto_flow": null,
            "grid_auto_rows": null,
            "grid_column": null,
            "grid_gap": null,
            "grid_row": null,
            "grid_template_areas": null,
            "grid_template_columns": null,
            "grid_template_rows": null,
            "height": null,
            "justify_content": null,
            "justify_items": null,
            "left": null,
            "margin": null,
            "max_height": null,
            "max_width": null,
            "min_height": null,
            "min_width": null,
            "object_fit": null,
            "object_position": null,
            "order": null,
            "overflow": null,
            "overflow_x": null,
            "overflow_y": null,
            "padding": null,
            "right": null,
            "top": null,
            "visibility": null,
            "width": null
          }
        },
        "5c15208bf77a4edca2b73cf611d0eeb3": {
          "model_module": "@jupyter-widgets/base",
          "model_name": "LayoutModel",
          "model_module_version": "1.2.0",
          "state": {
            "_model_module": "@jupyter-widgets/base",
            "_model_module_version": "1.2.0",
            "_model_name": "LayoutModel",
            "_view_count": null,
            "_view_module": "@jupyter-widgets/base",
            "_view_module_version": "1.2.0",
            "_view_name": "LayoutView",
            "align_content": null,
            "align_items": null,
            "align_self": null,
            "border": null,
            "bottom": null,
            "display": null,
            "flex": null,
            "flex_flow": null,
            "grid_area": null,
            "grid_auto_columns": null,
            "grid_auto_flow": null,
            "grid_auto_rows": null,
            "grid_column": null,
            "grid_gap": null,
            "grid_row": null,
            "grid_template_areas": null,
            "grid_template_columns": null,
            "grid_template_rows": null,
            "height": null,
            "justify_content": null,
            "justify_items": null,
            "left": null,
            "margin": null,
            "max_height": null,
            "max_width": null,
            "min_height": null,
            "min_width": null,
            "object_fit": null,
            "object_position": null,
            "order": null,
            "overflow": null,
            "overflow_x": null,
            "overflow_y": null,
            "padding": null,
            "right": null,
            "top": null,
            "visibility": null,
            "width": null
          }
        },
        "463e37915ff44e74a12ce6efb082f067": {
          "model_module": "@jupyter-widgets/controls",
          "model_name": "SliderStyleModel",
          "model_module_version": "1.5.0",
          "state": {
            "_model_module": "@jupyter-widgets/controls",
            "_model_module_version": "1.5.0",
            "_model_name": "SliderStyleModel",
            "_view_count": null,
            "_view_module": "@jupyter-widgets/base",
            "_view_module_version": "1.2.0",
            "_view_name": "StyleView",
            "description_width": "",
            "handle_color": null
          }
        },
        "6adc95ea23af4c289f51b9ef6927d42a": {
          "model_module": "@jupyter-widgets/base",
          "model_name": "LayoutModel",
          "model_module_version": "1.2.0",
          "state": {
            "_model_module": "@jupyter-widgets/base",
            "_model_module_version": "1.2.0",
            "_model_name": "LayoutModel",
            "_view_count": null,
            "_view_module": "@jupyter-widgets/base",
            "_view_module_version": "1.2.0",
            "_view_name": "LayoutView",
            "align_content": null,
            "align_items": null,
            "align_self": null,
            "border": null,
            "bottom": null,
            "display": null,
            "flex": null,
            "flex_flow": null,
            "grid_area": null,
            "grid_auto_columns": null,
            "grid_auto_flow": null,
            "grid_auto_rows": null,
            "grid_column": null,
            "grid_gap": null,
            "grid_row": null,
            "grid_template_areas": null,
            "grid_template_columns": null,
            "grid_template_rows": null,
            "height": null,
            "justify_content": null,
            "justify_items": null,
            "left": null,
            "margin": null,
            "max_height": null,
            "max_width": null,
            "min_height": null,
            "min_width": null,
            "object_fit": null,
            "object_position": null,
            "order": null,
            "overflow": null,
            "overflow_x": null,
            "overflow_y": null,
            "padding": null,
            "right": null,
            "top": null,
            "visibility": null,
            "width": null
          }
        },
        "7388a8ba6950415ba261f7eb4c74f171": {
          "model_module": "@jupyter-widgets/controls",
          "model_name": "SliderStyleModel",
          "model_module_version": "1.5.0",
          "state": {
            "_model_module": "@jupyter-widgets/controls",
            "_model_module_version": "1.5.0",
            "_model_name": "SliderStyleModel",
            "_view_count": null,
            "_view_module": "@jupyter-widgets/base",
            "_view_module_version": "1.2.0",
            "_view_name": "StyleView",
            "description_width": "",
            "handle_color": null
          }
        },
        "bd8e1bf0c5db4d979d1020519ae82b54": {
          "model_module": "@jupyter-widgets/base",
          "model_name": "LayoutModel",
          "model_module_version": "1.2.0",
          "state": {
            "_model_module": "@jupyter-widgets/base",
            "_model_module_version": "1.2.0",
            "_model_name": "LayoutModel",
            "_view_count": null,
            "_view_module": "@jupyter-widgets/base",
            "_view_module_version": "1.2.0",
            "_view_name": "LayoutView",
            "align_content": null,
            "align_items": null,
            "align_self": null,
            "border": null,
            "bottom": null,
            "display": null,
            "flex": null,
            "flex_flow": null,
            "grid_area": null,
            "grid_auto_columns": null,
            "grid_auto_flow": null,
            "grid_auto_rows": null,
            "grid_column": null,
            "grid_gap": null,
            "grid_row": null,
            "grid_template_areas": null,
            "grid_template_columns": null,
            "grid_template_rows": null,
            "height": null,
            "justify_content": null,
            "justify_items": null,
            "left": null,
            "margin": null,
            "max_height": null,
            "max_width": null,
            "min_height": null,
            "min_width": null,
            "object_fit": null,
            "object_position": null,
            "order": null,
            "overflow": null,
            "overflow_x": null,
            "overflow_y": null,
            "padding": null,
            "right": null,
            "top": null,
            "visibility": null,
            "width": null
          }
        },
        "4ac463057f4f4f04b4c9ef89edac1a58": {
          "model_module": "@jupyter-widgets/controls",
          "model_name": "SliderStyleModel",
          "model_module_version": "1.5.0",
          "state": {
            "_model_module": "@jupyter-widgets/controls",
            "_model_module_version": "1.5.0",
            "_model_name": "SliderStyleModel",
            "_view_count": null,
            "_view_module": "@jupyter-widgets/base",
            "_view_module_version": "1.2.0",
            "_view_name": "StyleView",
            "description_width": "",
            "handle_color": null
          }
        },
        "5389a542218e4bf9a4bc31085b92e10a": {
          "model_module": "@jupyter-widgets/base",
          "model_name": "LayoutModel",
          "model_module_version": "1.2.0",
          "state": {
            "_model_module": "@jupyter-widgets/base",
            "_model_module_version": "1.2.0",
            "_model_name": "LayoutModel",
            "_view_count": null,
            "_view_module": "@jupyter-widgets/base",
            "_view_module_version": "1.2.0",
            "_view_name": "LayoutView",
            "align_content": null,
            "align_items": null,
            "align_self": null,
            "border": null,
            "bottom": null,
            "display": null,
            "flex": null,
            "flex_flow": null,
            "grid_area": null,
            "grid_auto_columns": null,
            "grid_auto_flow": null,
            "grid_auto_rows": null,
            "grid_column": null,
            "grid_gap": null,
            "grid_row": null,
            "grid_template_areas": null,
            "grid_template_columns": null,
            "grid_template_rows": null,
            "height": null,
            "justify_content": null,
            "justify_items": null,
            "left": null,
            "margin": null,
            "max_height": null,
            "max_width": null,
            "min_height": null,
            "min_width": null,
            "object_fit": null,
            "object_position": null,
            "order": null,
            "overflow": null,
            "overflow_x": null,
            "overflow_y": null,
            "padding": null,
            "right": null,
            "top": null,
            "visibility": null,
            "width": null
          }
        },
        "d3247b20bffd4b83a0e93ca86e0e9cfa": {
          "model_module": "@jupyter-widgets/controls",
          "model_name": "SliderStyleModel",
          "model_module_version": "1.5.0",
          "state": {
            "_model_module": "@jupyter-widgets/controls",
            "_model_module_version": "1.5.0",
            "_model_name": "SliderStyleModel",
            "_view_count": null,
            "_view_module": "@jupyter-widgets/base",
            "_view_module_version": "1.2.0",
            "_view_name": "StyleView",
            "description_width": "",
            "handle_color": null
          }
        },
        "75e4e31c53dd40afa46d9184e3e25394": {
          "model_module": "@jupyter-widgets/base",
          "model_name": "LayoutModel",
          "model_module_version": "1.2.0",
          "state": {
            "_model_module": "@jupyter-widgets/base",
            "_model_module_version": "1.2.0",
            "_model_name": "LayoutModel",
            "_view_count": null,
            "_view_module": "@jupyter-widgets/base",
            "_view_module_version": "1.2.0",
            "_view_name": "LayoutView",
            "align_content": null,
            "align_items": null,
            "align_self": null,
            "border": null,
            "bottom": null,
            "display": null,
            "flex": null,
            "flex_flow": null,
            "grid_area": null,
            "grid_auto_columns": null,
            "grid_auto_flow": null,
            "grid_auto_rows": null,
            "grid_column": null,
            "grid_gap": null,
            "grid_row": null,
            "grid_template_areas": null,
            "grid_template_columns": null,
            "grid_template_rows": null,
            "height": null,
            "justify_content": null,
            "justify_items": null,
            "left": null,
            "margin": null,
            "max_height": null,
            "max_width": null,
            "min_height": null,
            "min_width": null,
            "object_fit": null,
            "object_position": null,
            "order": null,
            "overflow": null,
            "overflow_x": null,
            "overflow_y": null,
            "padding": null,
            "right": null,
            "top": null,
            "visibility": null,
            "width": null
          }
        }
      }
    }
  },
  "cells": [
    {
      "cell_type": "markdown",
      "source": [
        "# OpenCV Object Detection Tutorial in Python"
      ],
      "metadata": {
        "id": "x2SmQvzLtaC8"
      }
    },
    {
      "cell_type": "markdown",
      "source": [
        "In this tutorial, we will introduce you to OpenCV, an open-source computer vision library. You will use it with Python and NumPy in Google Colab to isolate out specific RGB colors with an accompanying threshold in a video. To do so, you will learn how to process video input, create a bitmask, and use edge detection and contouring. We will also teach you how to integrate a color selecting widget using Matplotlib and IPyWidgets."
      ],
      "metadata": {
        "id": "6kNwQGWDKlQC"
      }
    },
    {
      "cell_type": "markdown",
      "source": [
        "## Setup"
      ],
      "metadata": {
        "id": "2tKkeRzpl-nX"
      }
    },
    {
      "cell_type": "markdown",
      "source": [
        "**Setup:**\n",
        "You'll have to download and import this example video into the Google Colab files section yourself (on the left hand side)\n",
        "[Example Video](https://drive.google.com/file/d/1pa0MORL5tW-71HTS5Z_cuYTWgX2CMgfC/view?usp=sharing)"
      ],
      "metadata": {
        "id": "Vq-cZSbkwitY"
      }
    },
    {
      "cell_type": "code",
      "source": [
        "# Import all of our libraries\n",
        "import matplotlib.pyplot as plt\n",
        "from ipywidgets import interact, widgets\n",
        "import cv2\n",
        "import numpy as np\n",
        "from google.colab import files\n",
        "\n",
        "# Included an example video\n",
        "VIDEO_PATH = \"Ball Bounce 3d.mp4\"\n",
        "\n",
        "# Define a minimum area for our contours, this is to make sure we aren't detecting noise\n",
        "# or really small things as real objects.\n",
        "CONTOUR_AREA_MINIMUM = 300"
      ],
      "metadata": {
        "id": "3eA-CiBjHs0T"
      },
      "execution_count": null,
      "outputs": []
    },
    {
      "cell_type": "markdown",
      "source": [
        "## How to Create a Basic Color Picker"
      ],
      "metadata": {
        "id": "yi1Shq4zvEJA"
      }
    },
    {
      "cell_type": "markdown",
      "source": [
        "The ultimate goal of this tutorial is to track objects in a video of a specific color. To select an appropriate color to track, we will assume the object we want to track appears in the first frame of the input video, and that that object's color does not change significantly throughout the video.\n",
        "\n",
        "The first step in this process is to create an interface to collect an input color from the user. This will be the color of the object that we want to track in the video. We want to be able to collect this input, but also to view what the color is so the user can adjust and change their color as needed."
      ],
      "metadata": {
        "id": "yDGm39lHnkZ-"
      }
    },
    {
      "cell_type": "markdown",
      "source": [
        "### select_color function"
      ],
      "metadata": {
        "id": "RSxUBAECowbV"
      }
    },
    {
      "cell_type": "markdown",
      "source": [
        "This function will help us **visualize a chosen RGB** color combination, using a Python library called Matplotlib. This library provides a flexible platform for generating various types of graphs, charts, and figures to visually represent data. Here, we will use it to simply display a square the same color as our chosen color.\n",
        "\n",
        "select_color:\n",
        "1. Takes three parameters: red, green, and blue, representing RGB values ranging from 0 to 255.\n",
        "2. Converts these RGB values into a format that Matplotlib can interpret as a color.\n",
        "3. Sets up a small plot figure (2x2) using Matplotlib.\n",
        "4. Generates a small matrix representing the specified color.\n",
        "5. Displays the color using Matplotlib's `imshow` function, showing the single-pixel color matrix.\n",
        "6. Removes axis markings with `plt.axis('off')` for a cleaner display.\n",
        "7. Sets the plot title to showcase the RGB values passed as parameters using `plt.title`.\n",
        "8. Finally, it shows the plot with `plt.show()`.\n",
        "\n",
        "Effectively, when you call this select_color function with specific RGB values, it creates a small square display presenting that exact color. This code is helpful for quickly visualizing a specific RGB combination, providing an instant representation of a chosen color."
      ],
      "metadata": {
        "id": "Efo936Xhyti3"
      }
    },
    {
      "cell_type": "code",
      "source": [
        "def select_color(red, green, blue):\n",
        "    color = (red / 255, green / 255, blue / 255)\n",
        "    plt.figure(figsize=(2, 2))\n",
        "    # this creates a matrix of our color that matplotlib can interpret and display\n",
        "    plt.imshow([[color]])\n",
        "    plt.axis('off')\n",
        "    plt.title(f\"RGB: ({red}, {green}, {blue})\")\n",
        "    plt.show()"
      ],
      "metadata": {
        "id": "X8JgUmv5o09_"
      },
      "execution_count": null,
      "outputs": []
    },
    {
      "cell_type": "markdown",
      "source": [
        "### interactive_sliders"
      ],
      "metadata": {
        "id": "yg67ljJLqmiu"
      }
    },
    {
      "cell_type": "markdown",
      "source": [
        "This function is used to collect user input, using the IPython widgets library. It **creates an interface using sliders** and allows the user to adjust these sliders and select the color they want to use as input.\n",
        "\n",
        "interactive_sliders function:\n",
        "1. Defines a function that creates sliders for adjusting RGB values interactively.\n",
        "2. Sets up four sliders using the library IPython widgets.\n",
        "3. red_slider, green_slider, and blue_slider are created with default values of 128 and a range from 0 to 255, controlling the respective RGB components.\n",
        "4. There's also a threshold_slider with the same range, but this will be used later.\n",
        "5. Uses the interact function from the ipywidgets to link the `select_colors` function  with these sliders.\n",
        "6. The interact function dynamically updates the select_color function by passing the current slider values for red, green, and blue whenever they change. Every time the sliders change, the function `select_colors` will be rerun. For this tutorial, this means our square will be redisplayed with the updated color.\n",
        "\n",
        "When you execute interactive_sliders(), it generates a graphical interface displaying sliders for adjusting Red, Green, and Blue values. As you move these sliders, the associated `select_color` function gets updated with the new RGB values, immediately displaying the resulting color in a small square plot below the sliders. This provides a real-time visual representation of the selected color as the sliders are adjusted.\n"
      ],
      "metadata": {
        "id": "ySnf_Y_syqEK"
      }
    },
    {
      "cell_type": "code",
      "execution_count": null,
      "metadata": {
        "colab": {
          "base_uri": "https://localhost:8080/",
          "height": 309,
          "referenced_widgets": [
            "0a74ea035a7b44cc92c119029d0532d9",
            "9d97736153da4289a167f9e907cd4d9a",
            "e729c28737664a91a1df44110be773a4",
            "bb4890bd02524e048b0496d1534265ae",
            "c3f1f9982bdc44c185a1b1e7ca84e70a",
            "4132159be42248faa259e322eb84f54f",
            "99b9c210c33d47c494405f12fba1a081",
            "5d4a8e5a1ee84d71b35b610e80363fbc",
            "1f5bc5fd0ec64e84bc2745be3d30d34a",
            "b7c90e1112ce46fe98a29cd8701cdd46",
            "01f2cbfe9f36498282885257b25b7150",
            "e8fd407c63494d8e9156934d03839ed7",
            "6c8ab0d6d70842caa43fd6e12f211162"
          ]
        },
        "id": "TF8VzC0icjRL",
        "outputId": "f458f37d-6327-4a68-9f2d-d9079b050006"
      },
      "outputs": [
        {
          "output_type": "display_data",
          "data": {
            "text/plain": [
              "interactive(children=(IntSlider(value=128, description='Red', max=255), IntSlider(value=128, description='Gree…"
            ],
            "application/vnd.jupyter.widget-view+json": {
              "version_major": 2,
              "version_minor": 0,
              "model_id": "0a74ea035a7b44cc92c119029d0532d9"
            }
          },
          "metadata": {}
        }
      ],
      "source": [
        "def interactive_sliders():\n",
        "    # Create sliders for RGB values\n",
        "    red_slider = widgets.IntSlider(value=128, min=0, max=255, description='Red')\n",
        "    green_slider = widgets.IntSlider(value=128, min=0, max=255, description='Green')\n",
        "    blue_slider = widgets.IntSlider(value=128, min=0, max=255, description='Blue')\n",
        "    threshold_slider = widgets.IntSlider(value=128, min=0, max=255, description='Threshold') # this will be used later\n",
        "\n",
        "    # Define the interaction function\n",
        "    interact(select_color, red=red_slider, green=green_slider, blue=blue_slider, threshold=threshold_slider)\n",
        "\n",
        "interactive_sliders()"
      ]
    },
    {
      "cell_type": "markdown",
      "source": [
        "## Basic Color Picker with bitmask of the first video frame"
      ],
      "metadata": {
        "id": "qHFAlVJJvLja"
      }
    },
    {
      "cell_type": "markdown",
      "source": [
        "For this part of the tutorial, we will be using a Computer Vision technique called \"bit masking\"."
      ],
      "metadata": {
        "id": "5QGsvH_qyfEd"
      }
    },
    {
      "cell_type": "markdown",
      "source": [
        "### Bitmasking"
      ],
      "metadata": {
        "id": "dzNArPZdvHdr"
      }
    },
    {
      "cell_type": "markdown",
      "source": [
        "Bitmasking in computer vision involves using bitwise operations to manipulate individual bits in an image to achieve specific goals, like **isolating pixels of a particular color**.\n",
        "\n",
        "Our goal is to isolate objects in video frames that have a certain color. A good first step is to figure our where in our input video this color exists.\n",
        "\n",
        "We can look over every pixel in the image and see if it matches our selected color or if it falls within a set threshold (distance away) from our color. If it does, we can include it by setting that pixel to a 1 in the bitmask. If it doesn't match, we set it to a 0, effectively blacking it out from being seen.\n",
        "\n",
        "Here's how you might use bitmasking to isolate pixels of a certain color:\n",
        "\n",
        "1. Color Representation:\n",
        "In an image, colors are represented as combinations of red (R), green (G), and blue (B) values, often in an 8-bit format where each color channel ranges from 0 to 255.\n",
        "\n",
        "2. Define the Target Color:\n",
        "Choose the color you want to isolate by specifying its RGB values.\n",
        "\n",
        "3. Create a Mask:\n",
        "Generate a mask by comparing the RGB values of each pixel in the image with the target color and given threshold.\n",
        "Only pixels which fall within the target color's threshold are set to a 1 in the bitmask, and all other colored pixels are set to a 0. Setting a pixel to a 0 effectively blacks it out from being seen, and we can ignore it.\n",
        "\n",
        "4. Apply the Mask:\n",
        "Use the generated mask to selectively extract or manipulate pixels in the original image.\n",
        "\n",
        "By applying the mask to the original image using a bitwise AND operation, you can isolate the pixels that match the target color while setting others to zero, allowing us to ignore them.\n",
        "\n",
        "The functions below collect an input color using the functions we defined above, display the original first frame of the input video, and then apply the bitmask created using the input color to the first frame of the video.\n",
        "\n",
        "All the pixels that fall within the target color's threshold shine through the bitmask, while the other pixels which are set to 0 are blacked out."
      ],
      "metadata": {
        "id": "Rxx4NpTDykDD"
      }
    },
    {
      "cell_type": "markdown",
      "source": [
        "Using this idea of bitmasking, we proceed to starting to process our input video data. To start, we will capture just the first frame of the input, and assuming that the target object is present in this first frame, we will select a color to capture this object."
      ],
      "metadata": {
        "id": "YVhi05Jc1IIh"
      }
    },
    {
      "cell_type": "code",
      "source": [
        "# Collects the first frame of a video\n",
        "# Open the video file\n",
        "video_capture = cv2.VideoCapture(VIDEO_PATH)\n",
        "\n",
        "# Check if the video file is opened successfully\n",
        "if not video_capture.isOpened():\n",
        "    print(\"Error: Could not open video file\")\n",
        "    exit()\n",
        "\n",
        "# Read the first frame\n",
        "ret, first_frame = video_capture.read()\n",
        "\n",
        "# Release the video capture object\n",
        "video_capture.release()\n",
        "\n",
        "if not ret:\n",
        "    print(\"Error: Could not read the first frame\")\n",
        "    exit()\n"
      ],
      "metadata": {
        "id": "SbcR9ZnZc2jw"
      },
      "execution_count": null,
      "outputs": []
    },
    {
      "cell_type": "markdown",
      "source": [
        "Now that we have collected the first frame of the input video, we will construct our first bitmask.\n",
        "\n",
        "We will use the two functions we defined previously, `select_color` and `interactive_sliders` to do this (but we will slightly modify `select_color`).\n",
        "\n",
        "To avoid code duplication, we make a function `display_figure` to display a figure with Matplotlib."
      ],
      "metadata": {
        "id": "dU3JQTlW2iN5"
      }
    },
    {
      "cell_type": "code",
      "source": [
        "# We define some global variables\n",
        "selected_color = [128, 128, 128] # the selected color of the object to track\n",
        "threshold_global = 128 # we set a default threshold,\n",
        "# any pixel's red, green, and blue value can be within a maximum of 128 values\n",
        "# away from the selected_color's red, green, and blue values.\n",
        "\n",
        "\n",
        "def display_figure(figsize, image, title):\n",
        "    # displays an image with specified figure size and title\n",
        "    plt.figure(figsize=figsize)\n",
        "    plt.imshow(image)\n",
        "    plt.axis('off')\n",
        "    plt.title(title)\n",
        "    plt.show()"
      ],
      "metadata": {
        "id": "IapEr0_irpRD"
      },
      "execution_count": null,
      "outputs": []
    },
    {
      "cell_type": "markdown",
      "source": [
        "Our `create_mask` function creates a bitmask using the color we select using `select_color` and `interactive_sliders`. This function uses the RGB values and threshold variable created in `select_color` and passes them to set an upper and lower threshold colors. Any pixel with color values between the upper and lower color thresholds will be included in the bitmask, and will not be blacked out.\n",
        "\n",
        "The upper threshold, lower threshold, and the initial frame are passed into the function `cv2.inRange()`, which creates a bitmask with all pixels set to a 0 if they do not fall into the range.\n",
        "\n",
        "Here we also modify `select_color` to display not only a square with our selected color, but a copy of the first frame collected from the input video, and that first frame with a bitmask using the selected color and threshold values applied.\n",
        "\n",
        "For `Ball Bounce 3d.mp4`, our target object to track is the red ball. A good color selection that targets the red ball should display a bitmask with all the pixels blacked out except for the red ball at the top of the screen.\n",
        "\n",
        "The lower the threshold, the less pixels will be included in the mask. The higher the threshold, the more pixels will be included. Play around with these values and see what happens as the bitmask is updated in realtime."
      ],
      "metadata": {
        "id": "R-tsOHvzrrks"
      }
    },
    {
      "cell_type": "code",
      "source": [
        "## For the example video of Ball Bounce 3d.mp4 try using Red = 128, Green = 50, Blue = 50\n",
        "\n",
        "## Same as the color picker above this, but this will grab the first frame of the input\n",
        "# video and create a bitmask from the selected color, then apply this bitmask to the first frame.\n",
        "\n",
        "def create_mask(frame):\n",
        "    global selected_color\n",
        "    global threshhold_global\n",
        "    # Create a binary mask based on the selected color\n",
        "    # Take half of threshold, subtract it from the input color to get\n",
        "    # a lower threshold color, add it to input to get an upper threshold color\n",
        "\n",
        "    # We define it in BGR fashion, or BLUE, GREEN, RED.\n",
        "    # Since selected_color = [red, green, blue], we use selected_color[2] first.\n",
        "    threshold = threshold_global // 2\n",
        "    lower_bound = np.array([max(0, selected_color[2] - threshold), max(0, selected_color[1] - threshold), max(0, selected_color[0] - threshold)])\n",
        "    upper_bound = np.array([min(255, selected_color[2] + threshold), max(255, selected_color[1] + threshold), max(255, selected_color[0] + threshold)])\n",
        "    mask = cv2.inRange(frame, lower_bound, upper_bound)\n",
        "    return mask\n",
        "\n",
        "\n",
        "def select_color(red, green, blue, threshold):\n",
        "    # Using the global keyword in here let's us change the variable \"selected_color\"\n",
        "    # that we define outside of this function, instead of creating another local variable.\n",
        "    # Because we use this function inside of an interact function, it can't return anything.\n",
        "    global selected_color\n",
        "    global threshold_global\n",
        "    threshold_global = threshold\n",
        "    selected_color = [red, green, blue]\n",
        "\n",
        "    # Display the selected color using matplotlib\n",
        "    image = [[(red / 255, green / 255, blue / 255)]]\n",
        "    display_figure((2,2),image,f\"RGB: ({red}, {green}, {blue})\")\n",
        "\n",
        "    mask = create_mask(first_frame)\n",
        "    result = cv2.bitwise_and(first_frame, first_frame, mask=mask)\n",
        "\n",
        "    display_figure((6,6),cv2.cvtColor(first_frame, cv2.COLOR_BGR2RGB),\"Original Image\")\n",
        "\n",
        "    # Display the result\n",
        "    display_figure((6,6),cv2.cvtColor(result, cv2.COLOR_BGR2RGB),\"Image with Selected Color Mask\")\n",
        "\n",
        "# Show sliders for RGB and threshold values\n",
        "interactive_sliders()"
      ],
      "metadata": {
        "colab": {
          "base_uri": "https://localhost:8080/",
          "height": 947,
          "referenced_widgets": [
            "cb4110110ca941f6a0ce558c4b83e5ff",
            "89901b24c7274679b078f4dd8671362b",
            "6f045ec8be6f49f29b3510f9f1ac2bb5",
            "17760c3abfff4469a7fa8df59c332bc3",
            "37ed52c1c93b4f8fb2c1c739277eab94",
            "ecfd896a17184ebd8ba256d1defd2068",
            "5db9a60065dd4efd9c427bc3198cf774",
            "5c15208bf77a4edca2b73cf611d0eeb3",
            "463e37915ff44e74a12ce6efb082f067",
            "6adc95ea23af4c289f51b9ef6927d42a",
            "7388a8ba6950415ba261f7eb4c74f171",
            "bd8e1bf0c5db4d979d1020519ae82b54",
            "4ac463057f4f4f04b4c9ef89edac1a58",
            "5389a542218e4bf9a4bc31085b92e10a",
            "d3247b20bffd4b83a0e93ca86e0e9cfa",
            "75e4e31c53dd40afa46d9184e3e25394"
          ]
        },
        "id": "jY-AaIYC1-Xs",
        "outputId": "ad078139-b24d-4ffc-c8d4-c4cfc1a034b2"
      },
      "execution_count": null,
      "outputs": [
        {
          "output_type": "display_data",
          "data": {
            "text/plain": [
              "interactive(children=(IntSlider(value=128, description='Red', max=255), IntSlider(value=128, description='Gree…"
            ],
            "application/vnd.jupyter.widget-view+json": {
              "version_major": 2,
              "version_minor": 0,
              "model_id": "cb4110110ca941f6a0ce558c4b83e5ff"
            }
          },
          "metadata": {}
        }
      ]
    },
    {
      "cell_type": "markdown",
      "source": [
        "## Color bitmask and contouring of video with bounding boxes"
      ],
      "metadata": {
        "id": "5-WY6grLvWu_"
      }
    },
    {
      "cell_type": "markdown",
      "source": [
        "Now we will actually process our input video.\n",
        "\n",
        "A video is just a sequence of images played rapidly in succession. We can process an entire video by reading each of these frames and processing the frames separately. OpenCV provides a really conveinient way to do this using a VideoCapture object.\n",
        "\n",
        "This object lets us see information about the video and also lets us read individual frames of the video. The object holds the frames of a video in such a way that we can iterate over them in a for loop or a while loop. We call our VideoCapture object holding our input video `cap`.\n",
        "\n",
        "We use the `cap.get` function to access information about the video, including its width, height, and frames per second. We create a VideoWriter object (our output video) which has these same parameters.\n",
        "We also specify a video encoding using  `cv2.VideoWriter_fourcc('M','J','P','G')`. We found this particular encoding works well for downloads in Google Colab, but for different projects this codec should be chosen more carefully. [Here is a beginner friendly link to learn more about creating videos with OpenCV, including codecs](https://docs.opencv.org/3.4/dd/d43/tutorial_py_video_display.html).\n",
        "\n",
        "We iterate over the video frames, frame by frame, using the while loop. For each frame we create a mask with the function we defined earlier. Then we call the contours function on this mask.\n",
        "\n",
        "Simply put, `findContours` in OpenCV finds and identifies the contours (i.e., outlines or boundaries) of objects in an image. Contours are continuous curves that represent the boundaries of objects or shapes present in an image. It works best on binary images, like our bitmask ([A link to learn more!](https://docs.opencv.org/3.4/d4/d73/tutorial_py_contours_begin.html)). After execution, `cv2.findContours` returns a list of contours, each represented as points. Each contour is a Python list of (x, y) coordinates that outline a specific object in the image. If you're using the example input video, this should be the location, size, and shape of the red balls.\n",
        "We iterate over the output of `cv2.findContours`. Each contour has a certain area. We set a contour area minimum of 300 pixels in the first step, since this works well with our example video. This helps us avoid detecting video noise as objects, since we know the objects that we want to detect are generally larger than 300 pixels. This is a constant that works for this tutorial, but for other projects, this variable should be chosen carefully.\n",
        "\n",
        "`cv2.boundingRect` is another function in OpenCV which works on a given contour. It takes our contour as a parameter. This function finds a bounding rectangle that will completely enclose a given contour. It returns the four coordinates of the rectangle in the form of an initial x and y coordinate (representing the bottom left corner), and a width and heighth values which we can use to the find the other four corners. But we only need the bottom left corner and the top right in order to draw rectangles in OpenCV.\n",
        "\n",
        "Next, we call `cv2.rectangle`. This function simply draws a rectangle on a given video frame. We can call this function and pass in our frame, and also the coordinates we have calculated with `boundingRect` to draw the rectangle around the detected object on the input video frame. We use the color blue to draw the rectangle (255, 0, 0).\n",
        "\n",
        "Then we add a label to the bounding box around the detected object, labeling it \"Selected Color\". We use the color blue to write the text (255, 0, 0) using the OpenCV function `cv2.putText()`\n",
        "\n",
        "Lastly, we add the altered frame to our VideoWriter object we defined earlier. The check to see if the key 'q' is pressed is more helpful if we are using a webcamera as visual input, but it is useful for troubleshooting if something is going wrong with the loop and it will not halt.\n",
        "\n",
        "And finally, once we exit from the while loop, we release both the captured input video frame and the output VideoWriter. We no longer need to make changes to either of them. This is just like closing a file once we are done editing it."
      ],
      "metadata": {
        "id": "4N9-SVEr8K9n"
      }
    },
    {
      "cell_type": "code",
      "source": [
        "## Wraps a box around things with the selected color from before.\n",
        "## Possible areas of expansion : Add another selected color.\n",
        "\n",
        "# To collect video from the camera, use the following settings for cap:\n",
        "# NOTE: You cannot do this in Google Colab,\n",
        "# cap = cv2.VideoCapture()\n",
        "# cap = cv2.VideoCapture(0, apiPreference=cv2.CAP_AVFOUNDATION) # Initialize video capture\n",
        "\n",
        "# To collect video from a filepath:\n",
        "cap = cv2.VideoCapture(VIDEO_PATH)\n",
        "if not cap.isOpened():    # Check if video capture is successful\n",
        "    print(\"Error: Video capture not opened.\")\n",
        "    exit()\n",
        "\n",
        "# Get the height and width of the inputted video.\n",
        "frame_width = int(cap.get(cv2.CAP_PROP_FRAME_WIDTH))\n",
        "frame_height = int(cap.get(cv2.CAP_PROP_FRAME_HEIGHT))\n",
        "\n",
        "frame_fps = int(cap.get(cv2.CAP_PROP_FPS))\n",
        "\n",
        "# This creates an output video\n",
        "# Define the codec and create VideoWriter object. The output is stored in 'outpy.avi' file.\n",
        "# You will be able to find the video in the file tab in google colab\n",
        "out = cv2.VideoWriter('outpy.avi',cv2.VideoWriter_fourcc('M','J','P','G'), frame_fps, (frame_width,frame_height))\n",
        "\n",
        "# Check if the VideoWriter is initialized successfully\n",
        "if not out.isOpened():\n",
        "    print(\"Error: Could not initialize VideoWriter.\")\n",
        "    exit()\n",
        "\n",
        "# Quit the program if the video is empty, or we fail to retrieve video data for some other reason\n",
        "while True:\n",
        "    # Read a frame from the video capture\n",
        "    ret, frame = cap.read()\n",
        "    if not ret:\n",
        "        print(\"End of video\")\n",
        "        break\n",
        "\n",
        "    mask = create_mask(frame)\n",
        "\n",
        "    # Create the image contours\n",
        "    contours, _ = cv2.findContours(mask,\n",
        "                                           cv2.RETR_TREE,\n",
        "                                           cv2.CHAIN_APPROX_SIMPLE)\n",
        "\n",
        "    # For every contour that OpenCV finds, draw a rectangle around it.\n",
        "    for contour in contours:\n",
        "        # Get the area inside the contour\n",
        "        area = cv2.contourArea(contour)\n",
        "        # If the area is larger than the minimum we specify\n",
        "        if(area > CONTOUR_AREA_MINIMUM):\n",
        "            # Find the x, y, width, and heighth coordinates to draw a rectangle around it\n",
        "            x, y, w, h = cv2.boundingRect(contour)\n",
        "            # Draw the rectangle onto the frame\n",
        "            frame = cv2.rectangle(frame, (x, y),\n",
        "                                       (x + w, y + h),\n",
        "                                       (255, 0, 0), 2)\n",
        "            # Put text around the box showing that this object is our selected color\n",
        "            cv2.putText(frame, \"Selected Colour\", (x, y),\n",
        "                        cv2.FONT_HERSHEY_SIMPLEX,\n",
        "                        1.0, (255, 0, 0))\n",
        "\n",
        "    # Put the frame we altered to have the bounding box and text into a new video\n",
        "    out.write(frame)\n",
        "\n",
        "    # Break the loop when the 'q' key is pressed\n",
        "    if cv2.waitKey(1) & 0xFF == ord('q'):\n",
        "        break\n",
        "\n",
        "# Release the video capture and close all OpenCV windows\n",
        "cap.release()\n",
        "out.release()\n",
        "\n",
        "print(\"Finished Processing Video! Checkout the video outpy.avi in the files tab\")"
      ],
      "metadata": {
        "id": "nRY8UQa2cn5c",
        "colab": {
          "base_uri": "https://localhost:8080/"
        },
        "outputId": "3005a5eb-113a-4a7a-fba3-0f5fc8cf3d9a"
      },
      "execution_count": null,
      "outputs": [
        {
          "output_type": "stream",
          "name": "stdout",
          "text": [
            "End of video\n",
            "Finished Processing Video! Checkout the video outpy.avi in the files tab\n"
          ]
        }
      ]
    },
    {
      "cell_type": "markdown",
      "source": [
        "Now you can watch your output video, called `outpy.avi`! It should look like [this video](https://drive.google.com/file/d/1G5ytsHIFncjXsmKZbigd43yUBuRTlyVX/view?usp=sharing) if done correctly. Each object with the color that you selected should be within a labeled bounding rectangle.\n",
        "\n",
        "This object detecting program is a great first step to understanding how object detection and video processing works in OpenCV. It also can work as a stepping stone to larger projects. What about creating a bitmask based on the size and shape of objects, rather than color (this would allow you to detect objects of any color)? Now that you can detect objects in the frame, can you track them?\n",
        "\n",
        "There are some features of this code that allow video input to be taken from your computer web camera. As an additional exercise, you could uncomment the relevant sections and export the code to VSCode or another python IDE, and try to get this form of video input working."
      ],
      "metadata": {
        "id": "fhnszy3G8D22"
      }
    }
  ]
}